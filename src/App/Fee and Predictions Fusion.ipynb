{
 "cells": [
  {
   "cell_type": "code",
   "execution_count": 1,
   "metadata": {},
   "outputs": [],
   "source": [
    "import pandas as pd\n",
    "import regex as re"
   ]
  },
  {
   "cell_type": "code",
   "execution_count": 2,
   "metadata": {},
   "outputs": [],
   "source": [
    "Predictions = pd.read_csv(\"../Predictions/Predictions.csv\")\n",
    "Primeros4 = pd.read_csv(\"../Scraping/4Primeros.csv\")\n",
    "Descendera = pd.read_csv(\"../Scraping/Descenderán.csv\")\n",
    "GolesTres = pd.read_csv(\"../Scraping/2,5.csv\")"
   ]
  },
  {
   "cell_type": "code",
   "execution_count": 3,
   "metadata": {},
   "outputs": [],
   "source": [
    "Predictions = Predictions.set_index(\"Position\")"
   ]
  },
  {
   "cell_type": "code",
   "execution_count": 4,
   "metadata": {},
   "outputs": [],
   "source": [
    "Primeros4 = Primeros4.drop(columns=[\"Unnamed: 0\"])\n",
    "Descendera = Descendera.drop(columns=[\"Unnamed: 0\"])\n",
    "GolesTres = GolesTres.drop(columns=[\"Unnamed: 0\"])"
   ]
  },
  {
   "cell_type": "markdown",
   "metadata": {},
   "source": [
    "## Juntamos predicciones con sus cuotas"
   ]
  },
  {
   "cell_type": "markdown",
   "metadata": {},
   "source": [
    "### Primeros 4"
   ]
  },
  {
   "cell_type": "code",
   "execution_count": 5,
   "metadata": {},
   "outputs": [],
   "source": [
    "Primeros = pd.DataFrame(Predictions[\"Team\"].head(4))"
   ]
  },
  {
   "cell_type": "code",
   "execution_count": 6,
   "metadata": {},
   "outputs": [
    {
     "name": "stderr",
     "output_type": "stream",
     "text": [
      "<ipython-input-6-02174fb25a06>:1: SettingWithCopyWarning: \n",
      "A value is trying to be set on a copy of a slice from a DataFrame\n",
      "\n",
      "See the caveats in the documentation: https://pandas.pydata.org/pandas-docs/stable/user_guide/indexing.html#returning-a-view-versus-a-copy\n",
      "  Primeros4[\"Equipos\"][6] = re.sub(\"Real Sociedad\",\"R. Sociedad\", Primeros4[\"Equipos\"][6])\n"
     ]
    }
   ],
   "source": [
    "Primeros4[\"Equipos\"][6] = re.sub(\"Real Sociedad\",\"R. Sociedad\", Primeros4[\"Equipos\"][6])"
   ]
  },
  {
   "cell_type": "code",
   "execution_count": 7,
   "metadata": {},
   "outputs": [],
   "source": [
    "Primeros[\"Cuotas\"] = [str(Primeros4[Primeros4[\"Equipos\"]==i][\"Cuotas\"]).split(\"\\n\")[0] for i in Primeros[\"Team\"]]"
   ]
  },
  {
   "cell_type": "code",
   "execution_count": 8,
   "metadata": {},
   "outputs": [],
   "source": [
    "Primeros[\"Cuotas\"] = [str(i).split(\" \")[4] for i in Primeros[\"Cuotas\"]]"
   ]
  },
  {
   "cell_type": "code",
   "execution_count": 9,
   "metadata": {},
   "outputs": [],
   "source": [
    "Primeros.to_csv(\"Primeros4.csv\")"
   ]
  },
  {
   "cell_type": "markdown",
   "metadata": {},
   "source": [
    "### Descensos"
   ]
  },
  {
   "cell_type": "code",
   "execution_count": 10,
   "metadata": {},
   "outputs": [],
   "source": [
    "ultimos = pd.DataFrame(Predictions[\"Team\"].tail(3)) "
   ]
  },
  {
   "cell_type": "code",
   "execution_count": 11,
   "metadata": {},
   "outputs": [],
   "source": [
    "ultimos[\"Cuotas\"] = [str(Descendera[Descendera[\"Equipos\"]==i][\"Cuotas\"]).split(\"\\n\")[0] for i in ultimos[\"Team\"]]"
   ]
  },
  {
   "cell_type": "code",
   "execution_count": 12,
   "metadata": {},
   "outputs": [],
   "source": [
    "ultimos[\"Cuotas\"] = [str(i).split(\" \")[4] for i in ultimos[\"Cuotas\"]]"
   ]
  },
  {
   "cell_type": "code",
   "execution_count": 13,
   "metadata": {},
   "outputs": [],
   "source": [
    "ultimos.to_csv(\"Descensos.csv\")"
   ]
  },
  {
   "cell_type": "markdown",
   "metadata": {},
   "source": [
    "### 3 goles o más"
   ]
  },
  {
   "cell_type": "code",
   "execution_count": 14,
   "metadata": {},
   "outputs": [
    {
     "name": "stderr",
     "output_type": "stream",
     "text": [
      "<ipython-input-14-9c6246b093e1>:1: SettingWithCopyWarning: \n",
      "A value is trying to be set on a copy of a slice from a DataFrame\n",
      "\n",
      "See the caveats in the documentation: https://pandas.pydata.org/pandas-docs/stable/user_guide/indexing.html#returning-a-view-versus-a-copy\n",
      "  Predictions[\"Team\"][4] = re.sub(\"R. Sociedad\",\"Real Sociedad\",Predictions[\"Team\"][4])\n",
      "<ipython-input-14-9c6246b093e1>:2: SettingWithCopyWarning: \n",
      "A value is trying to be set on a copy of a slice from a DataFrame\n",
      "\n",
      "See the caveats in the documentation: https://pandas.pydata.org/pandas-docs/stable/user_guide/indexing.html#returning-a-view-versus-a-copy\n",
      "  Predictions[\"Team\"][6] = re.sub(\"Atlético\",\"Atletico de Madrid\",Predictions[\"Team\"][6])\n",
      "<ipython-input-14-9c6246b093e1>:3: SettingWithCopyWarning: \n",
      "A value is trying to be set on a copy of a slice from a DataFrame\n",
      "\n",
      "See the caveats in the documentation: https://pandas.pydata.org/pandas-docs/stable/user_guide/indexing.html#returning-a-view-versus-a-copy\n",
      "  Predictions[\"Team\"][8] = re.sub(\"Athletic\",\"Athletic Club\",Predictions[\"Team\"][8])\n",
      "<ipython-input-14-9c6246b093e1>:4: SettingWithCopyWarning: \n",
      "A value is trying to be set on a copy of a slice from a DataFrame\n",
      "\n",
      "See the caveats in the documentation: https://pandas.pydata.org/pandas-docs/stable/user_guide/indexing.html#returning-a-view-versus-a-copy\n",
      "  Predictions[\"Team\"][10] = re.sub(\"Villarreal\",\"Villareal\",Predictions[\"Team\"][10])\n"
     ]
    }
   ],
   "source": [
    "Predictions[\"Team\"][4] = re.sub(\"R. Sociedad\",\"Real Sociedad\",Predictions[\"Team\"][4])\n",
    "Predictions[\"Team\"][6] = re.sub(\"Atlético\",\"Atletico de Madrid\",Predictions[\"Team\"][6])\n",
    "Predictions[\"Team\"][8] = re.sub(\"Athletic\",\"Athletic Club\",Predictions[\"Team\"][8])\n",
    "Predictions[\"Team\"][10] = re.sub(\"Villarreal\",\"Villareal\",Predictions[\"Team\"][10])"
   ]
  },
  {
   "cell_type": "code",
   "execution_count": 15,
   "metadata": {},
   "outputs": [],
   "source": [
    "GolesTres[\"Goles Local pp\"] = [str(Predictions[Predictions[\"Team\"]==i][\"Local Goals pm\"]).split(\"\\n\")[1] for i in GolesTres[\"Local\"]]"
   ]
  },
  {
   "cell_type": "code",
   "execution_count": 16,
   "metadata": {},
   "outputs": [],
   "source": [
    "GolesTres[\"Goles Local pp\"] = [str(i).split(\" \")[4] for i in GolesTres[\"Goles Local pp\"]]"
   ]
  },
  {
   "cell_type": "code",
   "execution_count": 17,
   "metadata": {},
   "outputs": [],
   "source": [
    "GolesTres[\"Goles Local pp\"] = [float(i) for i in GolesTres[\"Goles Local pp\"]]"
   ]
  },
  {
   "cell_type": "code",
   "execution_count": 18,
   "metadata": {},
   "outputs": [],
   "source": [
    "GolesTres[\"Goles Visitante pp\"] = [str(Predictions[Predictions[\"Team\"]==i][\"Visitor Goals pm\"]).split(\"\\n\")[1] for i in GolesTres[\"Local\"]]"
   ]
  },
  {
   "cell_type": "code",
   "execution_count": 19,
   "metadata": {},
   "outputs": [],
   "source": [
    "GolesTres[\"Goles Visitante pp\"] = [str(i).split(\" \")[4] for i in GolesTres[\"Goles Visitante pp\"]]"
   ]
  },
  {
   "cell_type": "code",
   "execution_count": 20,
   "metadata": {},
   "outputs": [],
   "source": [
    "GolesTres[\"Goles Visitante pp\"] = [float(i) for i in GolesTres[\"Goles Visitante pp\"]]"
   ]
  },
  {
   "cell_type": "code",
   "execution_count": 21,
   "metadata": {},
   "outputs": [],
   "source": [
    "GolesTres[\"Goles Partido\"] = GolesTres[\"Goles Local pp\"]+GolesTres[\"Goles Visitante pp\"]"
   ]
  },
  {
   "cell_type": "code",
   "execution_count": 22,
   "metadata": {},
   "outputs": [],
   "source": [
    "GolesTres.to_csv(\"TresGoles.csv\")"
   ]
  }
 ],
 "metadata": {
  "kernelspec": {
   "display_name": "Python 3",
   "language": "python",
   "name": "python3"
  },
  "language_info": {
   "codemirror_mode": {
    "name": "ipython",
    "version": 3
   },
   "file_extension": ".py",
   "mimetype": "text/x-python",
   "name": "python",
   "nbconvert_exporter": "python",
   "pygments_lexer": "ipython3",
   "version": "3.8.2"
  }
 },
 "nbformat": 4,
 "nbformat_minor": 4
}
