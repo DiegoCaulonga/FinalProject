{
 "cells": [
  {
   "cell_type": "markdown",
   "metadata": {},
   "source": [
    "# X_test Creation"
   ]
  },
  {
   "cell_type": "markdown",
   "metadata": {},
   "source": [
    "## Import Libraries"
   ]
  },
  {
   "cell_type": "code",
   "execution_count": 1,
   "metadata": {},
   "outputs": [],
   "source": [
    "import requests\n",
    "import pandas as pd"
   ]
  },
  {
   "cell_type": "markdown",
   "metadata": {},
   "source": [
    "## Call the API and transform it to JSON"
   ]
  },
  {
   "cell_type": "code",
   "execution_count": 2,
   "metadata": {},
   "outputs": [],
   "source": [
    "request = requests.get(\"https://apiclient.besoccerapps.com/scripts/api/api.php?key=feedccac9e1a3693775f666c54012ff4&tz=Europe/Madrid&format=json&req=tables&league=1&group=1&round=5&year=2021\")\n",
    "res = request.json()"
   ]
  },
  {
   "cell_type": "markdown",
   "metadata": {},
   "source": [
    "## Create the desired table"
   ]
  },
  {
   "cell_type": "code",
   "execution_count": 3,
   "metadata": {},
   "outputs": [],
   "source": [
    "list1 = []\n",
    "for i in range(20):\n",
    "    list1.append(res[\"table\"][i][\"team\"])\n",
    "    \n",
    "list2 = []\n",
    "for i in range(20):\n",
    "    list2.append(res[\"table\"][i][\"pos\"])\n",
    "    \n",
    "list3 = []\n",
    "for i in range(20):\n",
    "    list3.append(res[\"table\"][i][\"points\"])\n",
    "    \n",
    "list4 = []\n",
    "for i in range(20):\n",
    "    list4.append(res[\"table\"][i][\"wins\"])\n",
    "    \n",
    "list5 = []\n",
    "for i in range(20):\n",
    "    list5.append(res[\"table\"][i][\"draws\"])\n",
    "    \n",
    "list6 = []\n",
    "for i in range(20):\n",
    "    list6.append(res[\"table\"][i][\"losses\"])\n",
    "    \n",
    "list7 = []\n",
    "for i in range(20):\n",
    "    list7.append(res[\"table\"][i][\"gf\"])\n",
    "    \n",
    "list8 = []\n",
    "for i in range(20):\n",
    "    list8.append(res[\"table\"][i][\"ga\"])"
   ]
  },
  {
   "cell_type": "code",
   "execution_count": 4,
   "metadata": {},
   "outputs": [],
   "source": [
    "x = zip(list1,list2,list3,list4,list5,list6,list7,list8)"
   ]
  },
  {
   "cell_type": "code",
   "execution_count": 5,
   "metadata": {},
   "outputs": [],
   "source": [
    "test = pd.DataFrame(x)"
   ]
  },
  {
   "cell_type": "code",
   "execution_count": 6,
   "metadata": {},
   "outputs": [],
   "source": [
    "test = test.rename(columns={0:\"Team\",1:\"Position\",2:\"points\",3:\"Wins\",4:\"Draws\",5:\"Losses\",6:\"goals scored\",7:\"goals received\"})\n"
   ]
  },
  {
   "cell_type": "code",
   "execution_count": 7,
   "metadata": {},
   "outputs": [],
   "source": [
    "test[\"Played Games\"] = test[\"Wins\"]+test[\"Draws\"]+test[\"Losses\"]"
   ]
  },
  {
   "cell_type": "code",
   "execution_count": 8,
   "metadata": {},
   "outputs": [],
   "source": [
    "lista_p = []\n",
    "for i,j in zip(test[\"points\"],test[\"Played Games\"]):\n",
    "    lista_p.append(round(int(i)+((int(i)/j)*(5-j))))\n",
    "    \n",
    "lista_g = []\n",
    "for i,j in zip(test[\"goals scored\"],test[\"Played Games\"]):\n",
    "    lista_g.append(round(int(i)+((int(i)/j)*(5-j))))\n",
    "\n",
    "lista_r = []\n",
    "for i,j in zip(test[\"goals received\"],test[\"Played Games\"]):\n",
    "    lista_r.append(round(int(i)+((int(i)/j)*(5-j))))"
   ]
  },
  {
   "cell_type": "code",
   "execution_count": 9,
   "metadata": {},
   "outputs": [],
   "source": [
    "test[\"Points\"] = lista_p\n",
    "test[\"Goals Scored\"] = lista_g\n",
    "test[\"Goals Received\"] = lista_r"
   ]
  },
  {
   "cell_type": "code",
   "execution_count": 10,
   "metadata": {},
   "outputs": [],
   "source": [
    "test = test.drop(columns=[\"points\",\"goals scored\",\"goals received\",\"Wins\",\"Draws\",\"Losses\",\"Played Games\",\"Position\"])"
   ]
  },
  {
   "cell_type": "code",
   "execution_count": 11,
   "metadata": {},
   "outputs": [
    {
     "data": {
      "text/plain": [
       "'test.to_csv(\"test.csv\")'"
      ]
     },
     "execution_count": 11,
     "metadata": {},
     "output_type": "execute_result"
    }
   ],
   "source": [
    "\"\"\"test.to_csv(\"test.csv\")\"\"\""
   ]
  }
 ],
 "metadata": {
  "kernelspec": {
   "display_name": "Python 3",
   "language": "python",
   "name": "python3"
  },
  "language_info": {
   "codemirror_mode": {
    "name": "ipython",
    "version": 3
   },
   "file_extension": ".py",
   "mimetype": "text/x-python",
   "name": "python",
   "nbconvert_exporter": "python",
   "pygments_lexer": "ipython3",
   "version": "3.8.2"
  }
 },
 "nbformat": 4,
 "nbformat_minor": 4
}
