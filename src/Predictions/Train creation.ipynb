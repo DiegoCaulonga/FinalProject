{
 "cells": [
  {
   "cell_type": "code",
   "execution_count": 1,
   "metadata": {},
   "outputs": [],
   "source": [
    "import requests\n",
    "import pandas as pd\n",
    "import numpy as np"
   ]
  },
  {
   "cell_type": "markdown",
   "metadata": {},
   "source": [
    "# Train table creation function"
   ]
  },
  {
   "cell_type": "code",
   "execution_count": 2,
   "metadata": {},
   "outputs": [],
   "source": [
    "def tabling(x,y):\n",
    "    response1 = requests.get(f\"https://apiclient.besoccerapps.com/scripts/api/api.php?key=feedccac9e1a3693775f666c54012ff4&tz=Europe/Madrid&format=json&req=tables&league=1&group=1&round=5&year={x}\")\n",
    "    response2 = requests.get(f\"https://apiclient.besoccerapps.com/scripts/api/api.php?key=feedccac9e1a3693775f666c54012ff4&tz=Europe/Madrid&format=json&req=tables&league=1&group=1&round=38&year={x}\")\n",
    "    a = response1.json()\n",
    "    b = response2.json()\n",
    "    \n",
    "    list1 = []\n",
    "    for i in range(20):\n",
    "        list1.append(a[\"table\"][i][\"team\"])\n",
    "    \n",
    "    list2 = []\n",
    "    for i in range(20):\n",
    "        list2.append(a[\"table\"][i][\"pos\"])\n",
    "    \n",
    "    list5 = []\n",
    "    for i in range(20):\n",
    "        list5.append(a[\"table\"][i][\"points\"])\n",
    "    \n",
    "    list6 = []\n",
    "    for i in range(20):\n",
    "        list6.append(a[\"table\"][i][\"wins\"])\n",
    "    \n",
    "    list7 = []\n",
    "    for i in range(20):\n",
    "        list7.append(a[\"table\"][i][\"draws\"])\n",
    "    \n",
    "    list8 = []\n",
    "    for i in range(20):\n",
    "        list8.append(a[\"table\"][i][\"losses\"])\n",
    "    \n",
    "    list9 = []\n",
    "    for i in range(20):\n",
    "        list9.append(a[\"table\"][i][\"gf\"])\n",
    "    \n",
    "    list10 = []\n",
    "    for i in range(20):\n",
    "        list10.append(a[\"table\"][i][\"ga\"])\n",
    "    \n",
    "    list3 = []\n",
    "    for i in range(20):\n",
    "        list3.append(b[\"table\"][i][\"team\"])\n",
    "    \n",
    "    list4 = []\n",
    "    for i in range(20):\n",
    "        list4.append(b[\"table\"][i][y])\n",
    "        \n",
    "    x = zip(list1,list2,list5,list6,list7,list8,list9,list10)\n",
    "    z = zip(list3,list4)\n",
    "    \n",
    "    p = pd.DataFrame(x)\n",
    "    p = p.rename(columns={0:\"Team\",1:\"Position\",2:\"Points\",3:\"Wins\",4:\"Draws\",5:\"Losses\",6:\"Goals Scored\",7:\"Goals Received\"})\n",
    "    p = p.sort_values(by=\"Team\")\n",
    "    \n",
    "    a = pd.DataFrame(z)\n",
    "    a = a.rename(columns={0:\"Team\",1:\"PositionJ38\"})\n",
    "    a = a.sort_values(by=\"Team\")\n",
    "    \n",
    "    if y == \"pos\":\n",
    "        p[\"PositionJ38\"] = [i for i in a[\"PositionJ38\"]]\n",
    "            \n",
    "    elif y == \"points\":\n",
    "        p[\"PointsJ38\"] = [i for i in a[\"PositionJ38\"]]\n",
    "           \n",
    "    else:\n",
    "        p[\"GoalsJ38\"] = [i for i in a[\"PositionJ38\"]]  \n",
    "           \n",
    "    return p"
   ]
  },
  {
   "cell_type": "markdown",
   "metadata": {},
   "source": [
    "# Create Train Datasets"
   ]
  },
  {
   "cell_type": "code",
   "execution_count": 3,
   "metadata": {},
   "outputs": [],
   "source": [
    "pos2018 = tabling(2018,\"pos\")\n",
    "pos2019 = tabling(2019,\"pos\")\n",
    "pos2020 = tabling(2020,\"pos\")\n",
    "pos_frames = [pos2018,pos2019,pos2020]\n",
    "position = pd.concat(pos_frames)"
   ]
  },
  {
   "cell_type": "code",
   "execution_count": 4,
   "metadata": {},
   "outputs": [],
   "source": [
    "goals2018 = tabling(2018,\"gf\")\n",
    "goals2019 = tabling(2018,\"gf\")\n",
    "goals2020 = tabling(2018,\"gf\")\n",
    "goal_frames = [goals2018,goals2019,goals2020]\n",
    "goals = pd.concat(goal_frames)"
   ]
  },
  {
   "cell_type": "code",
   "execution_count": 5,
   "metadata": {},
   "outputs": [],
   "source": [
    "points2018 = tabling(2018,\"points\")\n",
    "points2019 = tabling(2019,\"points\")\n",
    "points2020 = tabling(2020,\"points\")\n",
    "points_frames = [points2018,points2019,points2020]\n",
    "points = pd.concat(points_frames)"
   ]
  },
  {
   "cell_type": "markdown",
   "metadata": {},
   "source": [
    "# Export Datasets to disk as csv"
   ]
  },
  {
   "cell_type": "code",
   "execution_count": 6,
   "metadata": {},
   "outputs": [],
   "source": [
    "Position = position.drop(columns=[\"Wins\",\"Draws\",\"Losses\",\"Position\"])\n",
    "Goals = goals.drop(columns=[\"Wins\",\"Draws\",\"Losses\",\"Position\"])\n",
    "Points = points.drop(columns=[\"Wins\",\"Draws\",\"Losses\",\"Position\"])"
   ]
  },
  {
   "cell_type": "code",
   "execution_count": 7,
   "metadata": {},
   "outputs": [
    {
     "data": {
      "text/plain": [
       "'Position.to_csv(\"position.csv\")\\nGoals.to_csv(\"goals.csv\")\\nPoints.to_csv(\"points.csv\")'"
      ]
     },
     "execution_count": 7,
     "metadata": {},
     "output_type": "execute_result"
    }
   ],
   "source": [
    "Position.to_csv(\"position.csv\")\n",
    "Goals.to_csv(\"goals.csv\")\n",
    "Points.to_csv(\"points.csv\")"
   ]
  },
  {
   "cell_type": "code",
   "execution_count": null,
   "metadata": {},
   "outputs": [],
   "source": []
  }
 ],
 "metadata": {
  "kernelspec": {
   "display_name": "Python 3",
   "language": "python",
   "name": "python3"
  },
  "language_info": {
   "codemirror_mode": {
    "name": "ipython",
    "version": 3
   },
   "file_extension": ".py",
   "mimetype": "text/x-python",
   "name": "python",
   "nbconvert_exporter": "python",
   "pygments_lexer": "ipython3",
   "version": "3.8.2"
  }
 },
 "nbformat": 4,
 "nbformat_minor": 4
}
