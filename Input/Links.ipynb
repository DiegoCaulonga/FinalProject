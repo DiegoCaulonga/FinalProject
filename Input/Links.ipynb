{
 "cells": [
  {
   "cell_type": "markdown",
   "metadata": {},
   "source": [
    "# API Extraction"
   ]
  },
  {
   "cell_type": "markdown",
   "metadata": {},
   "source": [
    "## Links"
   ]
  },
  {
   "cell_type": "markdown",
   "metadata": {},
   "source": [
    "### Jornada 5 Temporada 2017-2018"
   ]
  },
  {
   "cell_type": "code",
   "execution_count": 2,
   "metadata": {},
   "outputs": [],
   "source": [
    "url1 = \"https://apiclient.besoccerapps.com/scripts/api/api.php?key=feedccac9e1a3693775f666c54012ff4&tz=Europe/Madrid&format=json&req=tables&league=1&group=1&round=5&year=2018\""
   ]
  },
  {
   "cell_type": "markdown",
   "metadata": {},
   "source": [
    "### Jornada 38 Temporada 2017-2018"
   ]
  },
  {
   "cell_type": "code",
   "execution_count": 3,
   "metadata": {},
   "outputs": [],
   "source": [
    "url2 = \"https://apiclient.besoccerapps.com/scripts/api/api.php?key=feedccac9e1a3693775f666c54012ff4&tz=Europe/Madrid&format=json&req=tables&league=1&group=1&round=38&year=2018\""
   ]
  },
  {
   "cell_type": "markdown",
   "metadata": {},
   "source": [
    "### Jornada 5 Temporada 2018-2019"
   ]
  },
  {
   "cell_type": "code",
   "execution_count": 4,
   "metadata": {},
   "outputs": [],
   "source": [
    "url = \"https://apiclient.besoccerapps.com/scripts/api/api.php?key=feedccac9e1a3693775f666c54012ff4&tz=Europe/Madrid&format=json&req=tables&league=1&group=1&round=5&year=2019\""
   ]
  },
  {
   "cell_type": "markdown",
   "metadata": {},
   "source": [
    "### Jornada 38 Temporada 2018-2019"
   ]
  },
  {
   "cell_type": "code",
   "execution_count": 5,
   "metadata": {},
   "outputs": [],
   "source": [
    "url = \"https://apiclient.besoccerapps.com/scripts/api/api.php?key=feedccac9e1a3693775f666c54012ff4&tz=Europe/Madrid&format=json&req=tables&league=1&group=1&round=38&year=2019\""
   ]
  },
  {
   "cell_type": "markdown",
   "metadata": {},
   "source": [
    "### Jornada 5 Temporada 2019-2020"
   ]
  },
  {
   "cell_type": "code",
   "execution_count": 6,
   "metadata": {},
   "outputs": [],
   "source": [
    "url = \"https://apiclient.besoccerapps.com/scripts/api/api.php?key=feedccac9e1a3693775f666c54012ff4&tz=Europe/Madrid&format=json&req=tables&league=1&group=1&round=5&year=2020\""
   ]
  },
  {
   "cell_type": "markdown",
   "metadata": {},
   "source": [
    "### Jornada 38 Temporada 2019-2020"
   ]
  },
  {
   "cell_type": "code",
   "execution_count": 7,
   "metadata": {},
   "outputs": [],
   "source": [
    "url = \"https://apiclient.besoccerapps.com/scripts/api/api.php?key=feedccac9e1a3693775f666c54012ff4&tz=Europe/Madrid&format=json&req=tables&league=1&group=1&round=38&year=2020\""
   ]
  }
 ],
 "metadata": {
  "kernelspec": {
   "display_name": "Python 3",
   "language": "python",
   "name": "python3"
  },
  "language_info": {
   "codemirror_mode": {
    "name": "ipython",
    "version": 3
   },
   "file_extension": ".py",
   "mimetype": "text/x-python",
   "name": "python",
   "nbconvert_exporter": "python",
   "pygments_lexer": "ipython3",
   "version": "3.8.2"
  }
 },
 "nbformat": 4,
 "nbformat_minor": 4
}
