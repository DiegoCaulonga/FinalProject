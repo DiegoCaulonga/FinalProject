{
 "cells": [
  {
   "cell_type": "markdown",
   "metadata": {},
   "source": [
    "## Importamos librerias"
   ]
  },
  {
   "cell_type": "code",
   "execution_count": 1,
   "metadata": {},
   "outputs": [],
   "source": [
    "import requests\n",
    "from bs4 import BeautifulSoup\n",
    "import pandas as pd\n",
    "import regex as re"
   ]
  },
  {
   "cell_type": "markdown",
   "metadata": {},
   "source": [
    "## Importamos URL y la convertimos a texto"
   ]
  },
  {
   "cell_type": "code",
   "execution_count": 2,
   "metadata": {},
   "outputs": [],
   "source": [
    "url = \"https://sports.williamhill.es/betting/es-es/football/competitions/OB_TY338/Espana-LaLiga-Santander/matches/OB_MG7336205/Total-de-goles-MasMenos-25-goles\"\n",
    "response = requests.get(url)\n",
    "soup = BeautifulSoup(response.text,\"html.parser\")"
   ]
  },
  {
   "cell_type": "markdown",
   "metadata": {},
   "source": [
    "## Extraemos cuotas (+2,5 goles)"
   ]
  },
  {
   "cell_type": "code",
   "execution_count": 3,
   "metadata": {},
   "outputs": [],
   "source": [
    "def cuotas1(i):\n",
    "    q = soup.find_all(\"article\")[i]\n",
    "    w = q.find_all(\"section\")[0]\n",
    "    e = str(w.find_all(\"span\")[0:2])\n",
    "    r = str(e.split(\"<span>\")[1:3])\n",
    "    t = r.split(\"<\")[0]\n",
    "    y = t.split(\"'\")[1]\n",
    "    u = r.split(\"<\")[1]\n",
    "    i = u.split(\"'\")[2]\n",
    "    return y,i"
   ]
  },
  {
   "cell_type": "code",
   "execution_count": 4,
   "metadata": {},
   "outputs": [],
   "source": [
    "cuotas = []\n",
    "for i in range(10):\n",
    "    cuotas.append(cuotas1(i))"
   ]
  },
  {
   "cell_type": "code",
   "execution_count": 5,
   "metadata": {},
   "outputs": [],
   "source": [
    "table = pd.DataFrame(cuotas)"
   ]
  },
  {
   "cell_type": "code",
   "execution_count": 6,
   "metadata": {},
   "outputs": [],
   "source": [
    "table[0] = [re.sub(\"EVS\",\"100/100\",i) for i in table[0]]"
   ]
  },
  {
   "cell_type": "code",
   "execution_count": 7,
   "metadata": {},
   "outputs": [],
   "source": [
    "table[\"uno\"] = [str(i).split(\"/\") for i in table[0]]\n",
    "table[\"dos\"] = [str(i).split(\"/\") for i in table[1]]"
   ]
  },
  {
   "cell_type": "code",
   "execution_count": 8,
   "metadata": {},
   "outputs": [],
   "source": [
    "table[\"cuota-2,5\"] = [(round(int(table[\"uno\"][i][0])/int(table[\"uno\"][i][1])+1,2)) for i in range(10)]\n",
    "table[\"cuota+2,5\"] = [(round(int(table[\"dos\"][i][0])/int(table[\"dos\"][i][1])+1,2)) for i in range(10)]"
   ]
  },
  {
   "cell_type": "code",
   "execution_count": 9,
   "metadata": {},
   "outputs": [],
   "source": [
    "tabla = table[[\"cuota-2,5\",\"cuota+2,5\"]]"
   ]
  },
  {
   "cell_type": "markdown",
   "metadata": {},
   "source": [
    "## Extraemos equipos (+2,5 goles)"
   ]
  },
  {
   "cell_type": "code",
   "execution_count": 10,
   "metadata": {},
   "outputs": [],
   "source": [
    "def equipos1(x):\n",
    "    a = soup.find_all(\"article\")[i]\n",
    "    s = str(a.find_all(\"a\")[0])\n",
    "    d = str(s.split(\"/\")[5])\n",
    "    f = str(d.split(\">\")[0])\n",
    "    g = f.split(\"-\")\n",
    "    return g"
   ]
  },
  {
   "cell_type": "code",
   "execution_count": 11,
   "metadata": {},
   "outputs": [],
   "source": [
    "equipos = []\n",
    "for i in range(10):\n",
    "    equipos.append(equipos1(i))"
   ]
  },
  {
   "cell_type": "code",
   "execution_count": 12,
   "metadata": {},
   "outputs": [],
   "source": [
    "equipos  = [[\"Granada\",\"Sevilla\"],\n",
    "           [\"Celta\",\"Atletico de Madrid\"],\n",
    "           [\"Real Madrid\",\"Cádiz\"],\n",
    "           [\"Getafe\",\"Barcelona\"],\n",
    "           [\"Eibar\",\"Osasuna\"],\n",
    "           [\"Athletic Club\",\"Levante\"],\n",
    "           [\"Villareal\",\"Valencia\"],\n",
    "           [\"Alavés\",\"Elche\"],\n",
    "           [\"Huesca\",\"Real Valladolid\"],\n",
    "           [\"Real Betis\",\"Real Sociedad\"]]   "
   ]
  },
  {
   "cell_type": "code",
   "execution_count": 13,
   "metadata": {},
   "outputs": [],
   "source": [
    "table2 = pd.DataFrame(equipos)\n",
    "table2 = table2.rename(columns={0:\"Local\",1:\"Visitante\"})"
   ]
  },
  {
   "cell_type": "code",
   "execution_count": 14,
   "metadata": {},
   "outputs": [
    {
     "name": "stderr",
     "output_type": "stream",
     "text": [
      "<ipython-input-14-a4c80f2212f4>:1: SettingWithCopyWarning: \n",
      "A value is trying to be set on a copy of a slice from a DataFrame.\n",
      "Try using .loc[row_indexer,col_indexer] = value instead\n",
      "\n",
      "See the caveats in the documentation: https://pandas.pydata.org/pandas-docs/stable/user_guide/indexing.html#returning-a-view-versus-a-copy\n",
      "  tabla[\"Local\"] = table2[\"Local\"]\n"
     ]
    }
   ],
   "source": [
    "tabla[\"Local\"] = table2[\"Local\"]"
   ]
  },
  {
   "cell_type": "code",
   "execution_count": 15,
   "metadata": {},
   "outputs": [
    {
     "name": "stderr",
     "output_type": "stream",
     "text": [
      "<ipython-input-15-07318d321c0d>:1: SettingWithCopyWarning: \n",
      "A value is trying to be set on a copy of a slice from a DataFrame.\n",
      "Try using .loc[row_indexer,col_indexer] = value instead\n",
      "\n",
      "See the caveats in the documentation: https://pandas.pydata.org/pandas-docs/stable/user_guide/indexing.html#returning-a-view-versus-a-copy\n",
      "  tabla[\"Visitante\"] = table2[\"Visitante\"]\n"
     ]
    }
   ],
   "source": [
    "tabla[\"Visitante\"] = table2[\"Visitante\"]"
   ]
  },
  {
   "cell_type": "code",
   "execution_count": 16,
   "metadata": {},
   "outputs": [],
   "source": [
    "tabla = tabla[[\"Local\",\"Visitante\",\"cuota-2,5\",\"cuota+2,5\"]]"
   ]
  },
  {
   "cell_type": "code",
   "execution_count": 17,
   "metadata": {},
   "outputs": [],
   "source": [
    "tabla.to_csv(\"2,5.csv\")"
   ]
  },
  {
   "cell_type": "code",
   "execution_count": null,
   "metadata": {},
   "outputs": [],
   "source": []
  }
 ],
 "metadata": {
  "kernelspec": {
   "display_name": "Python 3",
   "language": "python",
   "name": "python3"
  },
  "language_info": {
   "codemirror_mode": {
    "name": "ipython",
    "version": 3
   },
   "file_extension": ".py",
   "mimetype": "text/x-python",
   "name": "python",
   "nbconvert_exporter": "python",
   "pygments_lexer": "ipython3",
   "version": "3.8.2"
  }
 },
 "nbformat": 4,
 "nbformat_minor": 4
}
